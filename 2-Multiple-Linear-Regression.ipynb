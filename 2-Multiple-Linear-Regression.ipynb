{
 "cells": [
  {
   "cell_type": "markdown",
   "metadata": {},
   "source": [
    "# 2. 多元线性回归"
   ]
  },
  {
   "cell_type": "markdown",
   "metadata": {},
   "source": [
    "## 2.1 问题描述\n",
    "现在有如下数据：\n",
    "\n",
    "| 身高(cm) | 年龄（岁） | 性别 | 体重（kg） |\n",
    "| -------- | ---------- | ---- | ---------- |\n",
    "| 170      | 30         | 男   | 75         |\n",
    "| 160      | 45         | 女   | 65         |\n",
    "| 180      | 25         | 男   | 85         |\n",
    "| 165      | 35         | 女   | 70         |\n",
    "| 175      | 40         | 男   | 80         |\n",
    "| 155      | 50         | 女   | 60         |\n",
    "| 185      | 28         | 男   | 90         |\n",
    "| 168      | 32         | 女   | 68         |\n",
    "| 172      | 37         | 男   | 78         |\n",
    "| 163      | 42         | 女   | 72         |\n",
    "| 178      | 29         | 男   | 83         |\n",
    "| 167      | 31         | 女   | 66         |\n",
    "\n",
    "现在我们有12个样本数据。每个样本都包括了**身高、年龄和性别这三个自变量，以及相应的体重作为因变量**。要求预测给定身高、年龄和性别这三个自变量后其对应的体重？"
   ]
  },
  {
   "cell_type": "markdown",
   "metadata": {},
   "source": [
    "## 2.2 多元线性回归模型\n",
    "通过前面的分析，我们可以得到多元线性回归模型的关于$\\beta$的计算公式：\n",
    "$\\beta = (X'X)^{-1}X'Y$\n",
    "其中，X是自变量的矩阵，Y是因变量的矩阵。我们可以通过这个公式来计算出多元线性回归模型的系数。\n",
    "这个公式中，X'是X的转置矩阵，$(X'X)^{-1}$是X'X的逆矩阵。\n",
    "它是根据最小化误差平方和的原理推导出来的。"
   ]
  },
  {
   "cell_type": "code",
   "execution_count": 1,
   "metadata": {
    "ExecuteTime": {
     "end_time": "2024-03-03T03:15:39.947326900Z",
     "start_time": "2024-03-03T03:15:39.936358800Z"
    }
   },
   "outputs": [],
   "source": [
    "# 代码实现,导入numpy库，定义数据\n",
    "import numpy as np\n",
    "\n",
    "X = np.array(\n",
    "    [[170, 30, 1], [160, 45, 0], [180, 25, 1], [165, 35, 0], [175, 40, 1], [155, 50, 0], [185, 28, 1], [168, 32, 0],\n",
    "     [172, 37, 1], [163, 42, 0], [178, 29, 1], [167, 31, 0]])\n",
    "Y = np.array([75, 65, 85, 70, 80, 60, 90, 68, 78, 72, 83, 66])"
   ]
  },
  {
   "cell_type": "markdown",
   "metadata": {},
   "source": [
    "## 2.3 可视化数据"
   ]
  },
  {
   "cell_type": "code",
   "execution_count": 2,
   "metadata": {
    "ExecuteTime": {
     "end_time": "2024-03-03T02:22:53.108143200Z",
     "start_time": "2024-03-03T02:22:52.936602300Z"
    }
   },
   "outputs": [
    {
     "data": {
      "text/html": [
       "\n",
       "<script>\n",
       "    require.config({\n",
       "        paths: {\n",
       "            'echarts':'https://assets.pyecharts.org/assets/v5/echarts.min', 'echarts-gl':'https://assets.pyecharts.org/assets/v5/echarts-gl.min'\n",
       "        }\n",
       "    });\n",
       "</script>\n",
       "\n",
       "        <div id=\"d9e7065c39564b078ad5ecbdb224b4d4\" style=\"width:800px; height:600px;\"></div>\n",
       "\n",
       "<script>\n",
       "        require(['echarts', 'echarts-gl'], function(echarts) {\n",
       "                var chart_d9e7065c39564b078ad5ecbdb224b4d4 = echarts.init(\n",
       "                    document.getElementById('d9e7065c39564b078ad5ecbdb224b4d4'), 'white', {renderer: 'canvas'});\n",
       "                var option_d9e7065c39564b078ad5ecbdb224b4d4 = {\n",
       "    \"animation\": true,\n",
       "    \"animationThreshold\": 2000,\n",
       "    \"animationDuration\": 1000,\n",
       "    \"animationEasing\": \"cubicOut\",\n",
       "    \"animationDelay\": 0,\n",
       "    \"animationDurationUpdate\": 300,\n",
       "    \"animationEasingUpdate\": \"cubicOut\",\n",
       "    \"animationDelayUpdate\": 0,\n",
       "    \"aria\": {\n",
       "        \"enabled\": false\n",
       "    },\n",
       "    \"color\": [\n",
       "        \"#5470c6\",\n",
       "        \"#91cc75\",\n",
       "        \"#fac858\",\n",
       "        \"#ee6666\",\n",
       "        \"#73c0de\",\n",
       "        \"#3ba272\",\n",
       "        \"#fc8452\",\n",
       "        \"#9a60b4\",\n",
       "        \"#ea7ccc\"\n",
       "    ],\n",
       "    \"series\": [\n",
       "        {\n",
       "            \"type\": \"scatter3D\",\n",
       "            \"data\": [\n",
       "                [\n",
       "                    170,\n",
       "                    30,\n",
       "                    1\n",
       "                ],\n",
       "                [\n",
       "                    160,\n",
       "                    45,\n",
       "                    0\n",
       "                ],\n",
       "                [\n",
       "                    180,\n",
       "                    25,\n",
       "                    1\n",
       "                ],\n",
       "                [\n",
       "                    165,\n",
       "                    35,\n",
       "                    0\n",
       "                ],\n",
       "                [\n",
       "                    175,\n",
       "                    40,\n",
       "                    1\n",
       "                ],\n",
       "                [\n",
       "                    155,\n",
       "                    50,\n",
       "                    0\n",
       "                ],\n",
       "                [\n",
       "                    185,\n",
       "                    28,\n",
       "                    1\n",
       "                ],\n",
       "                [\n",
       "                    168,\n",
       "                    32,\n",
       "                    0\n",
       "                ],\n",
       "                [\n",
       "                    172,\n",
       "                    37,\n",
       "                    1\n",
       "                ],\n",
       "                [\n",
       "                    163,\n",
       "                    42,\n",
       "                    0\n",
       "                ],\n",
       "                [\n",
       "                    178,\n",
       "                    29,\n",
       "                    1\n",
       "                ],\n",
       "                [\n",
       "                    167,\n",
       "                    31,\n",
       "                    0\n",
       "                ]\n",
       "            ],\n",
       "            \"label\": {\n",
       "                \"show\": false,\n",
       "                \"margin\": 8\n",
       "            },\n",
       "            \"grid3DIndex\": 0\n",
       "        }\n",
       "    ],\n",
       "    \"legend\": [\n",
       "        {\n",
       "            \"data\": [\n",
       "                \"\"\n",
       "            ],\n",
       "            \"selected\": {},\n",
       "            \"show\": true,\n",
       "            \"padding\": 5,\n",
       "            \"itemGap\": 10,\n",
       "            \"itemWidth\": 25,\n",
       "            \"itemHeight\": 14,\n",
       "            \"backgroundColor\": \"transparent\",\n",
       "            \"borderColor\": \"#ccc\",\n",
       "            \"borderWidth\": 1,\n",
       "            \"borderRadius\": 0,\n",
       "            \"pageButtonItemGap\": 5,\n",
       "            \"pageButtonPosition\": \"end\",\n",
       "            \"pageFormatter\": \"{current}/{total}\",\n",
       "            \"pageIconColor\": \"#2f4554\",\n",
       "            \"pageIconInactiveColor\": \"#aaa\",\n",
       "            \"pageIconSize\": 15,\n",
       "            \"animationDurationUpdate\": 800,\n",
       "            \"selector\": false,\n",
       "            \"selectorPosition\": \"auto\",\n",
       "            \"selectorItemGap\": 7,\n",
       "            \"selectorButtonGap\": 10\n",
       "        }\n",
       "    ],\n",
       "    \"tooltip\": {\n",
       "        \"show\": true,\n",
       "        \"trigger\": \"item\",\n",
       "        \"triggerOn\": \"mousemove|click\",\n",
       "        \"axisPointer\": {\n",
       "            \"type\": \"line\"\n",
       "        },\n",
       "        \"showContent\": true,\n",
       "        \"alwaysShowContent\": false,\n",
       "        \"showDelay\": 0,\n",
       "        \"hideDelay\": 100,\n",
       "        \"enterable\": false,\n",
       "        \"confine\": false,\n",
       "        \"appendToBody\": false,\n",
       "        \"transitionDuration\": 0.4,\n",
       "        \"textStyle\": {\n",
       "            \"fontSize\": 14\n",
       "        },\n",
       "        \"borderWidth\": 0,\n",
       "        \"padding\": 5,\n",
       "        \"order\": \"seriesAsc\"\n",
       "    },\n",
       "    \"xAxis3D\": {\n",
       "        \"name\": \"X\",\n",
       "        \"show\": true,\n",
       "        \"scale\": false,\n",
       "        \"grid3DIndex\": 0,\n",
       "        \"nameGap\": 20,\n",
       "        \"logBase\": 10,\n",
       "        \"type\": \"value\",\n",
       "        \"splitLine\": {\n",
       "            \"show\": true,\n",
       "            \"lineStyle\": {\n",
       "                \"show\": true,\n",
       "                \"width\": 1,\n",
       "                \"opacity\": 1,\n",
       "                \"curveness\": 0,\n",
       "                \"type\": \"solid\"\n",
       "            }\n",
       "        }\n",
       "    },\n",
       "    \"yAxis3D\": {\n",
       "        \"name\": \"Y\",\n",
       "        \"show\": true,\n",
       "        \"scale\": false,\n",
       "        \"grid3DIndex\": 0,\n",
       "        \"nameGap\": 20,\n",
       "        \"logBase\": 10,\n",
       "        \"type\": \"value\",\n",
       "        \"splitLine\": {\n",
       "            \"show\": true,\n",
       "            \"lineStyle\": {\n",
       "                \"show\": true,\n",
       "                \"width\": 1,\n",
       "                \"opacity\": 1,\n",
       "                \"curveness\": 0,\n",
       "                \"type\": \"solid\"\n",
       "            }\n",
       "        }\n",
       "    },\n",
       "    \"zAxis3D\": {\n",
       "        \"name\": \"Z\",\n",
       "        \"show\": true,\n",
       "        \"scale\": false,\n",
       "        \"grid3DIndex\": 0,\n",
       "        \"nameGap\": 20,\n",
       "        \"logBase\": 10,\n",
       "        \"type\": \"value\",\n",
       "        \"splitLine\": {\n",
       "            \"show\": true,\n",
       "            \"lineStyle\": {\n",
       "                \"show\": true,\n",
       "                \"width\": 1,\n",
       "                \"opacity\": 1,\n",
       "                \"curveness\": 0,\n",
       "                \"type\": \"solid\"\n",
       "            }\n",
       "        }\n",
       "    },\n",
       "    \"grid3D\": {\n",
       "        \"boxWidth\": 200,\n",
       "        \"boxHeight\": 100,\n",
       "        \"boxDepth\": 80,\n",
       "        \"splitLine\": {\n",
       "            \"show\": true,\n",
       "            \"lineStyle\": {\n",
       "                \"show\": true,\n",
       "                \"width\": 1,\n",
       "                \"opacity\": 1,\n",
       "                \"curveness\": 0,\n",
       "                \"type\": \"solid\"\n",
       "            }\n",
       "        },\n",
       "        \"environment\": \"auto\",\n",
       "        \"viewControl\": {\n",
       "            \"autoRotate\": false,\n",
       "            \"autoRotateSpeed\": 10,\n",
       "            \"rotateSensitivity\": 1,\n",
       "            \"alpha\": 20,\n",
       "            \"beta\": 40,\n",
       "            \"minAlpha\": -90,\n",
       "            \"maxAlpha\": 90\n",
       "        },\n",
       "        \"zlevel\": -10,\n",
       "        \"left\": \"auto\",\n",
       "        \"top\": \"auto\",\n",
       "        \"right\": \"auto\",\n",
       "        \"bottom\": \"auto\"\n",
       "    },\n",
       "    \"title\": [\n",
       "        {\n",
       "            \"show\": true,\n",
       "            \"text\": \"3D Scatter Plot\",\n",
       "            \"target\": \"blank\",\n",
       "            \"subtarget\": \"blank\",\n",
       "            \"padding\": 5,\n",
       "            \"itemGap\": 10,\n",
       "            \"textAlign\": \"auto\",\n",
       "            \"textVerticalAlign\": \"auto\",\n",
       "            \"triggerEvent\": false\n",
       "        }\n",
       "    ],\n",
       "    \"visualMap\": {\n",
       "        \"show\": true,\n",
       "        \"type\": \"continuous\",\n",
       "        \"min\": 0,\n",
       "        \"max\": 1,\n",
       "        \"inRange\": {\n",
       "            \"color\": [\n",
       "                \"#313695\",\n",
       "                \"#4575b4\",\n",
       "                \"#74add1\",\n",
       "                \"#abd9e9\",\n",
       "                \"#e0f3f8\",\n",
       "                \"#ffffbf\",\n",
       "                \"#fee090\",\n",
       "                \"#fdae61\",\n",
       "                \"#f46d43\",\n",
       "                \"#d73027\",\n",
       "                \"#a50026\"\n",
       "            ]\n",
       "        },\n",
       "        \"calculable\": true,\n",
       "        \"inverse\": false,\n",
       "        \"splitNumber\": 5,\n",
       "        \"hoverLink\": true,\n",
       "        \"orient\": \"vertical\",\n",
       "        \"padding\": 5,\n",
       "        \"showLabel\": true,\n",
       "        \"itemWidth\": 20,\n",
       "        \"itemHeight\": 140,\n",
       "        \"borderWidth\": 0\n",
       "    }\n",
       "};\n",
       "                chart_d9e7065c39564b078ad5ecbdb224b4d4.setOption(option_d9e7065c39564b078ad5ecbdb224b4d4);\n",
       "        });\n",
       "    </script>\n"
      ],
      "text/plain": [
       "<pyecharts.render.display.HTML at 0x2a77118cf28>"
      ]
     },
     "execution_count": 2,
     "metadata": {},
     "output_type": "execute_result"
    }
   ],
   "source": [
    "from pyecharts import options as opts\n",
    "from pyecharts.charts import Scatter3D\n",
    "\n",
    "data = X.tolist()  # 转换数据为列表格式\n",
    "# 创建3D散点图\n",
    "scatter3D = Scatter3D(init_opts=opts.InitOpts(width=\"800px\", height=\"600px\"))\n",
    "scatter3D.add(\"\", data)\n",
    "# 设置3D散点图的全局选项\n",
    "scatter3D.set_global_opts(\n",
    "    title_opts=opts.TitleOpts(title=\"3D Scatter Plot\"),\n",
    "    visualmap_opts=opts.VisualMapOpts(\n",
    "        max_=1,\n",
    "        min_=0,\n",
    "        range_color=[\"#313695\", \"#4575b4\", \"#74add1\", \"#abd9e9\", \"#e0f3f8\", \"#ffffbf\", \"#fee090\", \"#fdae61\", \"#f46d43\",\n",
    "                     \"#d73027\", \"#a50026\"],\n",
    "    )\n",
    ")\n",
    "# 直接在Jupyter Notebook中显示图表\n",
    "scatter3D.render_notebook()"
   ]
  },
  {
   "cell_type": "code",
   "execution_count": 3,
   "metadata": {
    "ExecuteTime": {
     "end_time": "2024-03-03T03:20:15.992655800Z",
     "start_time": "2024-03-03T03:20:15.976668800Z"
    }
   },
   "outputs": [
    {
     "name": "stdout",
     "output_type": "stream",
     "text": [
      "12 3 <class 'int'> <class 'int'>\n"
     ]
    }
   ],
   "source": [
    "print(X.shape[0], X.shape[1], type(X.shape[0]), type(X.shape[1]))"
   ]
  },
  {
   "cell_type": "code",
   "execution_count": 4,
   "metadata": {
    "ExecuteTime": {
     "end_time": "2024-03-03T02:40:32.428663600Z",
     "start_time": "2024-03-03T02:40:32.410684100Z"
    }
   },
   "outputs": [],
   "source": [
    "# 根据公式计算beta（其中包括截距项）\n",
    "def multi_linear_regression(X, Y):\n",
    "    # np.hstack()是将两个矩阵水平合并，比如：\n",
    "    # np.hstack([np.array([[1, 2, 3]]), np.array([[4, 5, 6]])]) = np.array([[1, 2, 3, 4, 5, 6]])\n",
    "    # 这里是将X矩阵的第一列全部设置为1，用于计算截距项，X.shape[0]是X矩阵的行数\n",
    "    X = np.hstack([np.ones((X.shape[0], 1)), X])\n",
    "    # ------------------------------------------------\n",
    "    # 求解beta\n",
    "    # np.linalg.inv()是求矩阵的逆\n",
    "    # np.dot()是矩阵乘法\n",
    "    # np.transpose()是矩阵转置\n",
    "    # \\beta = (X'X)^{-1}X'Y\n",
    "    # ------------------------------------------------\n",
    "    beta = np.dot(np.dot(np.linalg.inv(np.dot(X.T, X)), X.T), Y)\n",
    "    return beta"
   ]
  },
  {
   "cell_type": "code",
   "execution_count": 5,
   "metadata": {
    "ExecuteTime": {
     "end_time": "2024-03-03T03:20:29.991623600Z",
     "start_time": "2024-03-03T03:20:29.983614600Z"
    }
   },
   "outputs": [
    {
     "name": "stdout",
     "output_type": "stream",
     "text": [
      "[-112.53822782    1.04161439    0.2448106     2.64148459]\n"
     ]
    }
   ],
   "source": [
    "# 计算beta\n",
    "beta = multi_linear_regression(X, Y)\n",
    "print(beta)"
   ]
  },
  {
   "cell_type": "markdown",
   "metadata": {},
   "source": [
    "## 2.4 回归方程为\n",
    "## Y = beta[0] + beta[1] * X1 + beta[2] * X2 + beta[3] * X3\n",
    "## 其中X1、X2、X3分别是身高、年龄和性别\n"
   ]
  },
  {
   "cell_type": "code",
   "execution_count": 6,
   "metadata": {
    "ExecuteTime": {
     "end_time": "2024-03-03T02:44:27.153861700Z",
     "start_time": "2024-03-03T02:44:27.143078Z"
    }
   },
   "outputs": [
    {
     "name": "stdout",
     "output_type": "stream",
     "text": [
      "回归方程为：Y = -112.54 + 1.04 * X1 + 0.24 * X2 + 2.64 * X3\n"
     ]
    }
   ],
   "source": [
    "print(\"回归方程为：Y = {:.2f} + {:.2f} * X1 + {:.2f} * X2 + {:.2f} * X3\".format(beta[0], beta[1], beta[2], beta[3]))"
   ]
  },
  {
   "cell_type": "markdown",
   "metadata": {},
   "source": [
    "## 2.5 预测"
   ]
  },
  {
   "cell_type": "code",
   "execution_count": 7,
   "metadata": {
    "ExecuteTime": {
     "end_time": "2024-03-03T02:46:09.021595800Z",
     "start_time": "2024-03-03T02:46:08.997588500Z"
    }
   },
   "outputs": [
    {
     "name": "stdout",
     "output_type": "stream",
     "text": [
      "预测的体重为：75.75kg\n"
     ]
    }
   ],
   "source": [
    "# 假设要预测的数据为：身高170cm，年龄35岁，性别男\n",
    "X_test = np.array([170, 35, 1])\n",
    "# 预测\n",
    "Y_test = beta[0] + np.dot(X_test, beta[1:])\n",
    "print(\"预测的体重为：{:.2f}kg\".format(Y_test))"
   ]
  },
  {
   "cell_type": "code",
   "execution_count": 8,
   "metadata": {
    "ExecuteTime": {
     "end_time": "2024-03-03T02:46:24.925323400Z",
     "start_time": "2024-03-03T02:46:24.896535400Z"
    }
   },
   "outputs": [
    {
     "name": "stdout",
     "output_type": "stream",
     "text": [
      "预测的体重为：63.91kg\n"
     ]
    }
   ],
   "source": [
    "# 假设要预测的数据为：身高160cm，年龄40岁，性别女\n",
    "X_test = np.array([160, 40, 0])\n",
    "# 预测\n",
    "Y_test = beta[0] + np.dot(X_test, beta[1:])\n",
    "print(\"预测的体重为：{:.2f}kg\".format(Y_test))"
   ]
  },
  {
   "cell_type": "markdown",
   "metadata": {},
   "source": [
    "## 2.6 可视化回归平面——实际上是不可行的\n",
    "- 为了更好理解不同个数自变量的图像，我们分别绘制一元一次方程和二元一次方程的图像，以便更好地理解。"
   ]
  },
  {
   "cell_type": "code",
   "execution_count": 13,
   "metadata": {
    "ExecuteTime": {
     "end_time": "2024-03-03T02:59:54.576192300Z",
     "start_time": "2024-03-03T02:59:54.053810300Z"
    }
   },
   "outputs": [
    {
     "data": {
      "image/png": "[encoded data removed]",
      "text/plain": [
       "<Figure size 864x432 with 2 Axes>"
      ]
     },
     "metadata": {
      "needs_background": "light"
     },
     "output_type": "display_data"
    }
   ],
   "source": [
    "# 对于一元一次方程 2x+1=0，我将展示它在二维坐标系中的直线图\n",
    "# 对于二元一次方程 x+2y−3=0，我将展示它在三维坐标系中的平面图\n",
    "import matplotlib.pyplot as plt\n",
    "import numpy as np\n",
    "\n",
    "# 设置图像大小\n",
    "plt.figure(figsize=(12, 6))\n",
    "# 子图1：一元一次方程 2x + 1 = 0\n",
    "plt.subplot(1, 2, 1)\n",
    "x = np.linspace(-10, 10, 400)\n",
    "y = -0.5 * np.ones_like(x)  # 解为x = -1/2\n",
    "plt.plot(x, y, label='2x + 1 = 0')\n",
    "plt.title('one-variable linear equation')\n",
    "plt.xlabel('x')\n",
    "plt.ylabel('y')\n",
    "plt.axhline(0, color='black', linewidth=0.5)\n",
    "plt.axvline(0, color='black', linewidth=0.5)\n",
    "plt.grid(color='gray', linestyle='--', linewidth=0.5)\n",
    "plt.legend()\n",
    "# 子图2：二元一次方程 x + 2y - 3 = 0\n",
    "plt.subplot(1, 2, 2)\n",
    "x = np.linspace(-10, 10, 400)\n",
    "y = (3 - x) / 2\n",
    "plt.plot(x, y, label='x + 2y - 3 = 0')\n",
    "plt.title('two-variable linear equation')\n",
    "plt.xlabel('x')\n",
    "plt.ylabel('y')\n",
    "plt.axhline(0, color='black', linewidth=0.5)\n",
    "plt.axvline(0, color='black', linewidth=0.5)\n",
    "plt.grid(color='gray', linestyle='--', linewidth=0.5)\n",
    "plt.legend()\n",
    "\n",
    "plt.tight_layout()\n",
    "plt.show()"
   ]
  },
  {
   "cell_type": "code",
   "execution_count": 10,
   "metadata": {
    "ExecuteTime": {
     "end_time": "2024-03-03T03:04:43.387826300Z",
     "start_time": "2024-03-03T03:04:43.214725700Z"
    }
   },
   "outputs": [
    {
     "data": {
      "image/png": "[encoded data removed]",
      "text/plain": [
       "<Figure size 432x288 with 1 Axes>"
      ]
     },
     "metadata": {
      "needs_background": "light"
     },
     "output_type": "display_data"
    }
   ],
   "source": [
    "#假设只有两个自变量，我们可以绘制三维图像\n",
    "import numpy as np\n",
    "import matplotlib.pyplot as plt\n",
    "\n",
    "# 定义原始数据点\n",
    "X = np.array([\n",
    "    [170, 30, 1], [160, 45, 0], [180, 25, 1], [165, 35, 0], [175, 40, 1], [155, 50, 0],\n",
    "    [185, 28, 1], [168, 32, 0], [172, 37, 1], [163, 42, 0], [178, 29, 1], [167, 31, 0]\n",
    "])\n",
    "# 回归方程的系数\n",
    "coefficients = [-112.54, 1.04, 0.24, 2.64]\n",
    "# 生成X1, X2的网格\n",
    "x1_range = np.linspace(150, 190, 20)\n",
    "x2_range = np.linspace(20, 50, 20)\n",
    "X1, X2 = np.meshgrid(x1_range, x2_range)\n",
    "# 重新计算回归平面的Y值，不考虑X3的影响\n",
    "Y_plane = coefficients[0] + coefficients[1] * X1 + coefficients[2] * X2\n",
    "# 创建3D图\n",
    "fig = plt.figure()\n",
    "ax = fig.add_subplot(111, projection='3d')\n",
    "# 绘制原始数据点，使用X3值改变颜色\n",
    "ax.scatter(X[:, 0], X[:, 1], X[:, 2], c=X[:, 2], cmap='coolwarm', marker='o')\n",
    "# 绘制回归平面\n",
    "ax.plot_surface(X1, X2, Y_plane, color='b', alpha=0.3)\n",
    "# 设置坐标轴标签\n",
    "ax.set_xlabel('X1')\n",
    "ax.set_ylabel('X2')\n",
    "ax.set_zlabel('Y')\n",
    "plt.show()"
   ]
  },
  {
   "cell_type": "markdown",
   "metadata": {},
   "source": [
    "**但是我们有三个自变量，这说明它构成的图像是一个三维的图像，我们无法在二维平面上展示出来。因此，我们无法通过图像来直观地理解多元线性回归模型。**"
   ]
  },
  {
   "cell_type": "markdown",
   "metadata": {},
   "source": [
    "## 2.7 模型评估——采用决定系数R方\n",
    "计算公式为：\n",
    "$R^2 = 1 - \\frac{\\sum_{i=1}^{n}(Y_i - \\hat{Y_i})^2}{\\sum_{i=1}^{n}(Y_i - \\bar{Y})^2}$\n",
    "其中，$Y_i$是真实值，$\\hat{Y_i}$是预测值，$\\bar{Y}$是真实值的均值。  \n",
    "R方的取值范围是0到1，R方越接近1，说明模型的拟合效果越好。\n"
   ]
  },
  {
   "cell_type": "code",
   "execution_count": 11,
   "metadata": {
    "ExecuteTime": {
     "end_time": "2024-03-03T03:15:45.265091400Z",
     "start_time": "2024-03-03T03:15:45.243860700Z"
    }
   },
   "outputs": [
    {
     "name": "stdout",
     "output_type": "stream",
     "text": [
      "[74.52202148 65.136552   83.71411239 67.89651794 82.17819947 61.15253305\n",
      " 89.65661616 70.28692931 78.31892448 67.52696337 82.61012602 69.00050432]\n"
     ]
    }
   ],
   "source": [
    "# 预测\n",
    "Y_pred = beta[0] + np.dot(X, beta[1:])\n",
    "print(Y_pred)"
   ]
  },
  {
   "cell_type": "code",
   "execution_count": 12,
   "metadata": {
    "ExecuteTime": {
     "end_time": "2024-03-03T03:16:01.863887300Z",
     "start_time": "2024-03-03T03:16:01.844878600Z"
    }
   },
   "outputs": [
    {
     "name": "stdout",
     "output_type": "stream",
     "text": [
      "R方为：0.95\n"
     ]
    }
   ],
   "source": [
    "# 计算R方\n",
    "def r2_score(Y, Y_pred):\n",
    "    return 1 - np.sum((Y - Y_pred) ** 2) / np.sum((Y - np.mean(Y)) ** 2)\n",
    "r2 = r2_score(Y, Y_pred)\n",
    "print(\"R方为：{:.2f}\".format(r2))"
   ]
  },
  {
   "cell_type": "markdown",
   "metadata": {},
   "source": [
    "## 2.8 总结\n",
    "- 多元线性回归模型是一种多元线性方程，它是通过多个自变量来预测因变量的一种模型。\n",
    "- 通过结果来看，多元线性回归模型的R方为0.95，说明模型的拟合效果还是非常好的😂"
   ]
  }
 ],
 "metadata": {
  "kernelspec": {
   "display_name": "Python 3",
   "language": "python",
   "name": "python3"
  },
  "language_info": {
   "codemirror_mode": {
    "name": "ipython",
    "version": 3
   },
   "file_extension": ".py",
   "mimetype": "text/x-python",
   "name": "python",
   "nbconvert_exporter": "python",
   "pygments_lexer": "ipython3",
   "version": "3.7.0"
  }
 },
 "nbformat": 4,
 "nbformat_minor": 5
}
